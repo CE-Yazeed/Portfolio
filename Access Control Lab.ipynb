{
 "cells": [
  {
   "cell_type": "markdown",
   "metadata": {
    "id": "4w9z0bsxsL4Y"
   },
   "source": [
    "# Acess Control "
   ]
  },
  {
   "cell_type": "markdown",
   "metadata": {
    "id": "dQ2elTOeCMNv"
   },
   "source": [
    "## Scenario\n",
    "\n",
    "An important part of cybersecurity is controlling access to restricted content. In this lab, you'll work with a text file containing IP addresses that are allowed to access specific restricted content at your organization.\n",
    "\n",
    "Parsing a file allows security analysts to read and update the contents. Python helps analysts develop algorithms to automate the process of parsing files and keeping them up-to-date.\n",
    "\n",
    "You'll develop an algorithm that parses this text file of IP addresses and updates the file by removing the addresses that no longer have access to the restricted content.\n",
    "\n",
    "In this lab, you're working as a security analyst and you're responsible for developing an algorithm that parses a file containing IP addresses that are allowed to access restricted content and removes addresses that no longer have access."
   ]
  },
  {
   "cell_type": "code",
   "execution_count": 1,
   "metadata": {
    "id": "UwXb5CW1sSbp"
   },
   "outputs": [
    {
     "name": "stdout",
     "output_type": "stream",
     "text": [
      "data/allow_list.txt\n",
      "['192.168.97.225', '192.168.158.170', '192.168.201.40', '192.168.58.57']\n"
     ]
    }
   ],
   "source": [
    "# Assign `import_file` to the name of the file \n",
    "\n",
    "import_file = \"data/allow_list.txt\"\n",
    "\n",
    "# Assign `remove_list` to a list of IP addresses that are no longer allowed to access restricted information. \n",
    "\n",
    "remove_list = [\"192.168.97.225\", \"192.168.158.170\", \"192.168.201.40\", \"192.168.58.57\"]\n",
    "\n",
    "# Display `import_file`\n",
    "\n",
    "print(import_file)\n",
    "\n",
    "# Display `remove_list`\n",
    "\n",
    "print(remove_list)"
   ]
  },
  {
   "cell_type": "code",
   "execution_count": 2,
   "metadata": {
    "id": "W_OyqEQL0J4i"
   },
   "outputs": [
    {
     "ename": "SyntaxError",
     "evalue": "unexpected EOF while parsing (<ipython-input-2-570da020cff3>, line 11)",
     "output_type": "error",
     "traceback": [
      "\u001b[0;36m  File \u001b[0;32m\"<ipython-input-2-570da020cff3>\"\u001b[0;36m, line \u001b[0;32m11\u001b[0m\n\u001b[0;31m    with open(import_file, \"r\") as file:\u001b[0m\n\u001b[0m                                        ^\u001b[0m\n\u001b[0;31mSyntaxError\u001b[0m\u001b[0;31m:\u001b[0m unexpected EOF while parsing\n"
     ]
    }
   ],
   "source": [
    "# Assign `import_file` to the name of the file \n",
    "\n",
    "import_file = \"data/allow_list.txt\"\n",
    "\n",
    "# Assign `remove_list` to a list of IP addresses that are no longer allowed to access restricted information. \n",
    "\n",
    "remove_list = [\"192.168.97.225\", \"192.168.158.170\", \"192.168.201.40\", \"192.168.58.57\"]\n",
    "\n",
    "# First line of `with` statement\n",
    "\n",
    "with open(import_file, \"r\") as file:"
   ]
  },
  {
   "cell_type": "code",
   "execution_count": null,
   "metadata": {
    "id": "KrsVQnLS4SnG"
   },
   "outputs": [],
   "source": [
    "# Assign `import_file` to the name of the file \n",
    "\n",
    "import_file = \"data/allow_list.txt\"\n",
    "\n",
    "# Assign `remove_list` to a list of IP addresses that are no longer allowed to access restricted information. \n",
    "\n",
    "remove_list = [\"192.168.97.225\", \"192.168.158.170\", \"192.168.201.40\", \"192.168.58.57\"]\n",
    "\n",
    "# Build `with` statement to read in the initial contents of the file\n",
    "\n",
    "with open(import_file, \"r\") as file:\n",
    "\n",
    "  # Use `.read()` to read the imported file and store it in a variable named `ip_addresses`\n",
    "\n",
    "    ip_addresses = file.read()\n",
    "\n",
    "# Display `ip_addresses`\n",
    "\n",
    "print(ip_addresses)"
   ]
  },
  {
   "cell_type": "code",
   "execution_count": null,
   "metadata": {
    "id": "04FIIxkL6BRC"
   },
   "outputs": [],
   "source": [
    "# Assign `import_file` to the name of the file \n",
    "\n",
    "import_file = \"data/allow_list.txt\"\n",
    "\n",
    "# Assign `remove_list` to a list of IP addresses that are no longer allowed to access restricted information. \n",
    "\n",
    "remove_list = [\"192.168.97.225\", \"192.168.158.170\", \"192.168.201.40\", \"192.168.58.57\"]\n",
    "\n",
    "# Build `with` statement to read in the initial contents of the file\n",
    "\n",
    "with open(import_file, \"r\") as file:\n",
    "\n",
    "  # Use `.read()` to read the imported file and store it in a variable named `ip_addresses`\n",
    "\n",
    "    ip_addresses = file.read()\n",
    "\n",
    "# Use `.split()` to convert `ip_addresses` from a string to a list\n",
    "\n",
    "ip_addresses = ip_addresses.split()\n",
    "\n",
    "# Display `ip_addresses`\n",
    "\n",
    "print(ip_addresses)"
   ]
  },
  {
   "cell_type": "code",
   "execution_count": null,
   "metadata": {
    "id": "wmBNZ2pu_UMv"
   },
   "outputs": [],
   "source": [
    "# Assign `import_file` to the name of the file\n",
    "\n",
    "import_file = \"data/allow_list.txt\"\n",
    "\n",
    "# Assign `remove_list` to a list of IP addresses that are no longer allowed to access restricted information.\n",
    "\n",
    "remove_list = [\"192.168.97.225\", \"192.168.158.170\", \"192.168.201.40\", \"192.168.58.57\"]\n",
    "\n",
    "# Build `with` statement to read in the initial contents of the file\n",
    "\n",
    "with open(import_file, \"r\") as file:\n",
    "\n",
    "  # Use `.read()` to read the imported file and store it in a variable named `ip_addresses`\n",
    "\n",
    "    ip_addresses = file.read()\n",
    "\n",
    "# Use `.split()` to convert `ip_addresses` from a string to a list\n",
    "\n",
    "ip_addresses = ip_addresses.split()\n",
    "\n",
    "# Build iterative statement\n",
    "# Name loop variable `element`\n",
    "# Loop through `remove_list`\n",
    "\n",
    "for element in remove_list:\n",
    "\n",
    "  # Display `element` in every iteration\n",
    "\n",
    "    print(element)"
   ]
  },
  {
   "cell_type": "code",
   "execution_count": 3,
   "metadata": {
    "id": "AOp7hAdhDcpe"
   },
   "outputs": [
    {
     "name": "stdout",
     "output_type": "stream",
     "text": [
      "['ip', 'address', '192.168.25.60', '192.168.205.12', '92.168.97.225', '192.168.6.9', '192.168.52.90', '192.168.90.124', '192.168.186.176', '192.168.133.188', '192.168.203.198', '192.168.218.219', '192.168.52.37', '192.168.156.224', '192.168.60.153', '192.168.69.116']\n"
     ]
    }
   ],
   "source": [
    "# Assign `import_file` to the name of the file\n",
    "\n",
    "import_file = \"data/allow_list.txt\"\n",
    "\n",
    "# Assign `remove_list` to a list of IP addresses that are no longer allowed to access restricted information.\n",
    "\n",
    "remove_list = ['192.168.97.225', '192.168.158.170', '192.168.201.40', '192.168.58.57']\n",
    "\n",
    "# Build `with` statement to read in the initial contents of the file\n",
    "\n",
    "with open(import_file, \"r\") as file:\n",
    "\n",
    "  # Use `.read()` to read the imported file and store it in a variable named `ip_addresses`\n",
    "\n",
    "    ip_addresses = file.read()\n",
    "\n",
    "# Use `.split()` to convert `ip_addresses` from a string to a list\n",
    "\n",
    "ip_addresses = ip_addresses.split()\n",
    "\n",
    "# Build iterative statement\n",
    "# Name loop variable `element`\n",
    "# Loop through `remove_list`\n",
    "\n",
    "for element in remove_list:\n",
    "    \n",
    "  # Create conditional statement to evaluate if `element` is in `ip_addresses`\n",
    "\n",
    "    if element in ip_addresses:\n",
    "\n",
    "      # use the `.remove()` method to remove\n",
    "      # elements from `ip_addresses`\n",
    "\n",
    "        ip_addresses.remove(element)\n",
    "\n",
    "# Display `ip_addresses`\n",
    "\n",
    "print(ip_addresses)"
   ]
  },
  {
   "cell_type": "code",
   "execution_count": 4,
   "metadata": {
    "id": "_9TMPL2sF6Rh"
   },
   "outputs": [],
   "source": [
    "# Assign `import_file` to the name of the file\n",
    "\n",
    "import_file = \"data/allow_list.txt\"\n",
    "\n",
    "# Assign `remove_list` to a list of IP addresses that are no longer allowed to access restricted information.\n",
    "\n",
    "remove_list = [\"192.168.97.225\", \"192.168.158.170\", \"192.168.201.40\", \"192.168.58.57\"]\n",
    "\n",
    "# Build `with` statement to read in the initial contents of the file\n",
    "\n",
    "with open(import_file, \"r\") as file:\n",
    "\n",
    "  # Use `.read()` to read the imported file and store it in a variable named `ip_addresses`\n",
    "\n",
    "    ip_addresses = file.read()\n",
    "\n",
    "# Use `.split()` to convert `ip_addresses` from a string to a list\n",
    "\n",
    "ip_addresses = ip_addresses.split()\n",
    "\n",
    "# Build iterative statement\n",
    "# Name loop variable `element`\n",
    "# Loop through `remove_list`\n",
    "\n",
    "for element in remove_list:\n",
    "    \n",
    "  # Create conditional statement to evaluate if `element` is in `ip_addresses`\n",
    "\n",
    "    if element in ip_addresses:\n",
    "\n",
    "      # use the `.remove()` method to remove\n",
    "      # elements from `ip_addresses`\n",
    "\n",
    "        ip_addresses.remove(element)\n",
    "\n",
    "# Convert `ip_addresses` back to a string so that it can be written into the text file\n",
    "\n",
    "ip_addresses = \"\\n\".join(ip_addresses)\n",
    "\n",
    "# Build `with` statement to rewrite the original file\n",
    "\n",
    "with open(import_file, \"w\") as file:\n",
    "\n",
    "  # Rewrite the file, replacing its contents with `ip_addresses`\n",
    "\n",
    "    file.write(ip_addresses)"
   ]
  },
  {
   "cell_type": "code",
   "execution_count": 5,
   "metadata": {
    "id": "I2DxVHWrJMgT"
   },
   "outputs": [
    {
     "name": "stdout",
     "output_type": "stream",
     "text": [
      "ip\n",
      "address\n",
      "192.168.25.60\n",
      "192.168.205.12\n",
      "92.168.97.225\n",
      "192.168.6.9\n",
      "192.168.52.90\n",
      "192.168.90.124\n",
      "192.168.186.176\n",
      "192.168.133.188\n",
      "192.168.203.198\n",
      "192.168.218.219\n",
      "192.168.52.37\n",
      "192.168.156.224\n",
      "192.168.60.153\n",
      "192.168.69.116\n"
     ]
    }
   ],
   "source": [
    "# Assign `import_file` to the name of the file\n",
    "\n",
    "import_file = \"data/allow_list.txt\"\n",
    "\n",
    "# Assign `remove_list` to a list of IP addresses that are no longer allowed to access restricted information.\n",
    "\n",
    "remove_list = [\"192.168.97.225\", \"192.168.158.170\", \"192.168.201.40\", \"192.168.58.57\"]\n",
    "\n",
    "# Build `with` statement to read in the initial contents of the file\n",
    "\n",
    "with open(import_file, \"r\") as file:\n",
    "\n",
    "  # Use `.read()` to read the imported file and store it in a variable named `ip_addresses`\n",
    "\n",
    "    ip_addresses = file.read()\n",
    "\n",
    "# Use `.split()` to convert `ip_addresses` from a string to a list\n",
    "\n",
    "ip_addresses = ip_addresses.split()\n",
    "\n",
    "# Build iterative statement\n",
    "# Name loop variable `element`\n",
    "# Loop through `remove_list`\n",
    "\n",
    "for element in remove_list:\n",
    "    \n",
    "  # Create conditional statement to evaluate if `element` is in `ip_addresses`\n",
    "\n",
    "    if element in ip_addresses:\n",
    "\n",
    "      # use the `.remove()` method to remove\n",
    "      # elements from `ip_addresses`\n",
    "\n",
    "        ip_addresses.remove(element)\n",
    "        \n",
    "# Convert `ip_addresses` back to a string so that it can be written into the text file\n",
    "\n",
    "ip_addresses = \"\\n\".join(ip_addresses)\n",
    "\n",
    "# Build `with` statement to rewrite the original file\n",
    "\n",
    "with open(import_file, \"w\") as file:\n",
    "\n",
    "  # Rewrite the file, replacing its contents with `ip_addresses`\n",
    "\n",
    "    file.write(ip_addresses)\n",
    "\n",
    "# Build `with` statement to read in the updated file\n",
    "\n",
    "with open(import_file, \"r\") as file:\n",
    "\n",
    "  # Read in the updated file and store the contents in `text`\n",
    "\n",
    "    text = file.read()\n",
    "\n",
    "# Display the contents of `text`\n",
    "\n",
    "print(text)"
   ]
  },
  {
   "cell_type": "code",
   "execution_count": 6,
   "metadata": {
    "id": "OXfjQ3bjK8_r"
   },
   "outputs": [],
   "source": [
    "# Define a function named `update_file` that takes in two parameters: `import_file` and `remove_list`\n",
    "# and combines the steps you've written in this lab leading up to this\n",
    "\n",
    "def update_file(import_file, remove_list):\n",
    "\n",
    "  # Build `with` statement to read in the initial contents of the file\n",
    "\n",
    "    with open(import_file, \"r\") as file:\n",
    "\n",
    "    # Use `.read()` to read the imported file and store it in a variable named `ip_addresses`\n",
    "\n",
    "        ip_addresses = file.read()\n",
    "\n",
    "  # Use `.split()` to convert `ip_addresses` from a string to a list\n",
    "\n",
    "    ip_addresses = ip_addresses.split()\n",
    "\n",
    "  # Build iterative statement\n",
    "  # Name loop variable `element`\n",
    "  # Loop through `remove_list`\n",
    "\n",
    "    for element in remove_list:\n",
    "    \n",
    "      # Create conditional statement to evaluate if `element` is in `ip_addresses`\n",
    "\n",
    "        if element in ip_addresses:\n",
    "\n",
    "          # use the `.remove()` method to remove\n",
    "          # elements from `ip_addresses`\n",
    "\n",
    "            ip_addresses.remove(element)\n",
    "\n",
    "  # Convert `ip_addresses` back to a string so that it can be written into the text file\n",
    "\n",
    "    ip_addresses = \"\\n\".join(ip_addresses)\n",
    "\n",
    "  # Build `with` statement to rewrite the original file\n",
    "\n",
    "    with open(import_file, \"w\") as file:\n",
    "\n",
    "    # Rewrite the file, replacing its contents with `ip_addresses`\n",
    "\n",
    "        file.write(ip_addresses)"
   ]
  },
  {
   "cell_type": "code",
   "execution_count": 7,
   "metadata": {
    "id": "O1FYsyooQAQv"
   },
   "outputs": [
    {
     "name": "stdout",
     "output_type": "stream",
     "text": [
      "ip\n",
      "address\n",
      "192.168.205.12\n",
      "92.168.97.225\n",
      "192.168.6.9\n",
      "192.168.52.90\n",
      "192.168.186.176\n",
      "192.168.133.188\n",
      "192.168.203.198\n",
      "192.168.218.219\n",
      "192.168.52.37\n",
      "192.168.156.224\n",
      "192.168.69.116\n"
     ]
    }
   ],
   "source": [
    "# Define a function named `update_file` that takes in two parameters: `import_file` and `remove_list`\n",
    "# and combines the steps you've written in this lab leading up to this\n",
    "\n",
    "def update_file(import_file, remove_list):\n",
    "\n",
    "  # Build `with` statement to read in the initial contents of the file\n",
    "\n",
    "    with open(import_file, \"r\") as file:\n",
    "\n",
    "    # Use `.read()` to read the imported file and store it in a variable named `ip_addresses`\n",
    "\n",
    "        ip_addresses = file.read()\n",
    "\n",
    "  # Use `.split()` to convert `ip_addresses` from a string to a list\n",
    "\n",
    "    ip_addresses = ip_addresses.split()\n",
    "\n",
    "  # Build iterative statement\n",
    "  # Name loop variable `element`\n",
    "  # Loop through `remove_list`\n",
    "\n",
    "    for element in remove_list:\n",
    "    \n",
    "      # Create conditional statement to evaluate if `element` is in `ip_addresses`\n",
    "\n",
    "        if element in ip_addresses:\n",
    "\n",
    "          # use the `.remove()` method to remove\n",
    "          # elements from `ip_addresses`\n",
    "\n",
    "            ip_addresses.remove(element)\n",
    "\n",
    "  # Convert `ip_addresses` back to a string so that it can be written into the text file\n",
    "\n",
    "    ip_addresses = \"\\n\".join(ip_addresses)\n",
    "\n",
    "  # Build `with` statement to rewrite the original file\n",
    "\n",
    "    with open(import_file, \"w\") as file:\n",
    "\n",
    "    # Rewrite the file, replacing its contents with `ip_addresses`\n",
    "\n",
    "        file.write(ip_addresses)\n",
    "\n",
    "# Call `update_file()` and pass in \"allow_list.txt\" and a list of IP addresses to be removed\n",
    "\n",
    "update_file(\"data/allow_list.txt\", [\"192.168.25.60\", \"192.168.90.124\", \"192.168.60.153\"])\n",
    "\n",
    "# Build `with` statement to read in the updated file\n",
    "\n",
    "with open(\"data/allow_list.txt\", \"r\") as file:\n",
    "\n",
    "  # Read in the updated file and store the contents in `text`\n",
    "\n",
    "    text = file.read()\n",
    "\n",
    "# Display the contents of `text`\n",
    "\n",
    "print(text)"
   ]
  },
  {
   "cell_type": "markdown",
   "metadata": {
    "id": "F5C4y6A8jWPj"
   },
   "source": [
    "#### **Question 1**\n",
    "**What do you observe about the output above?**\n"
   ]
  },
  {
   "cell_type": "markdown",
   "metadata": {
    "id": "jldD4mdikAJM"
   },
   "source": [
    "The first line of the output shows the name of the text file. The second line of the output shows the list of IP addresses from the `remove_list`. "
   ]
  },
  {
   "cell_type": "markdown",
   "metadata": {
    "id": "MrvKB19ltc6A"
   },
   "source": [
    "#### **Question 2**\n",
    "**Do you notice any IP addresses in the allow list that are also in the `remove_list`?**\n"
   ]
  },
  {
   "cell_type": "markdown",
   "metadata": {
    "id": "iEYKFGZttc6B"
   },
   "source": [
    "There are four IP addresses in the allow list that are also in the `remove_list`."
   ]
  },
  {
   "cell_type": "markdown",
   "metadata": {
    "id": "cD0hgjRLuS98"
   },
   "source": [
    "#### **Question 3**\n",
    "**What are the benefits of incorporating the algorithm into a single function?**"
   ]
  },
  {
   "cell_type": "markdown",
   "metadata": {
    "id": "wwad4AR_uXLM"
   },
   "source": [
    "Incorporating the algorithm into a single function helps organize the code and make it reusable. If you want to execute the algorithm more than once, all you have to do is call the function that contains it."
   ]
  },
  {
   "cell_type": "markdown",
   "metadata": {
    "id": "ru2ytGBLCh4q"
   },
   "source": [
    "## Conclusion\n",
    "\n",
    "**What are your key takeaways from this lab?**"
   ]
  },
  {
   "cell_type": "markdown",
   "metadata": {
    "id": "hxh9FImwbcF9"
   },
   "source": [
    "- Python has functions and syntax that help you import and parse text files.\n",
    "  - The `with` statement allows you to efficiently handle files.\n",
    "  - The `open()` function allows you to import or open a file. It takes in the name of the file as the first parameter and a string that indicates the purpose of opening the file as the second parameter.\n",
    "    - Specify `\"r\"` as the second parameter if you're opening the file for reading purposes.\n",
    "    - Specify `\"w\"` as the second parameter if you're opening the file for writing purposes.\n",
    "  - The `.read()` method allows you to read in a file. \n",
    "  - The `.write()` method allows you to append or write to a file.\n",
    "- You can use the `.split()` method to convert a string to a list.\n",
    "- You can use a `for` loop to iterate over a list.\n",
    "- You can use a conditional to evaluate if a variable is part of a list.\n",
    "- You can use Python to compare contents of a text file against elements of a list.\n",
    "- Algorithms can be incorporated into functions. When defining a function, you must specify the parameters it takes in and the actions it should execute."
   ]
  }
 ],
 "metadata": {
  "colab": {
   "provenance": [
    {
     "file_id": "1VolpAg7SNCQYTM9TN61-G4NVDH1rpBLl",
     "timestamp": 1667326208266
    }
   ],
   "toc_visible": true
  },
  "kernelspec": {
   "display_name": "Python 3",
   "language": "python",
   "name": "python3"
  },
  "language_info": {
   "codemirror_mode": {
    "name": "ipython",
    "version": 3
   },
   "file_extension": ".py",
   "mimetype": "text/x-python",
   "name": "python",
   "nbconvert_exporter": "python",
   "pygments_lexer": "ipython3",
   "version": "3.7.6"
  }
 },
 "nbformat": 4,
 "nbformat_minor": 1
}
