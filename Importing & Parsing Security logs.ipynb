{
 "cells": [
  {
   "cell_type": "markdown",
   "metadata": {
    "id": "BTj1ga3Gxuxe"
   },
   "source": [
    "# Importing & Parsing Security logs "
   ]
  },
  {
   "cell_type": "markdown",
   "metadata": {
    "id": "dQ2elTOeCMNv"
   },
   "source": [
    "## Scenario\n",
    "\n",
    "Security logs are often stored in text files. To analyze the security logs in these files, security analysts have to import and parse these files. Python has some functions that come in handy for these tasks, allowing analysts to efficiently access information from text files. The lab focuses on using functions and other syntax in Python to import and parse text files. \n",
    "\n",
    "In this lab, you're working as a security analyst. You're responsible for preparing a security log file for analysis and creating a text file with IP addresses that are allowed to access restricted information."
   ]
  },
  {
   "cell_type": "code",
   "execution_count": null,
   "metadata": {
    "id": "9EaW_JbmBoMn"
   },
   "outputs": [],
   "source": [
    "# Assign `import_file` to the name of the text file that contains the security log file\n",
    "\n",
    "import_file = \"data/login.txt\"\n",
    "\n",
    "# First line of the `with` statement\n",
    "# Use `open()` to import security log file and store it as a string\n",
    "\n",
    "with open(import_file, \"r\") as file:"
   ]
  },
  {
   "cell_type": "code",
   "execution_count": 2,
   "metadata": {
    "id": "hrljSL5oGZE1"
   },
   "outputs": [
    {
     "name": "stdout",
     "output_type": "stream",
     "text": [
      "username,ip_address,time,date\n",
      "tshah,192.168.92.147,15:26:08,2022-05-10\n",
      "dtanaka,192.168.98.221,9:45:18,2022-05-09\n",
      "tmitchel,192.168.110.131,14:13:41,2022-05-11\n",
      "daquino,192.168.168.144,7:02:35,2022-05-08\n",
      "eraab,192.168.170.243,1:45:14,2022-05-11\n",
      "jlansky,192.168.238.42,1:07:11,2022-05-11\n",
      "acook,192.168.52.90,9:56:48,2022-05-10\n",
      "asundara,192.168.58.217,23:17:52,2022-05-12\n",
      "jclark,192.168.214.49,20:49:00,2022-05-10\n",
      "cjackson,192.168.247.153,19:36:42,2022-05-12\n",
      "jclark,192.168.197.247,14:11:04,2022-05-12\n",
      "apatel,192.168.46.207,17:39:42,2022-05-10\n",
      "mabadi,192.168.96.244,10:24:43,2022-05-12\n",
      "iuduike,192.168.131.147,17:50:00,2022-05-11\n",
      "abellmas,192.168.60.111,13:37:05,2022-05-10\n",
      "gesparza,192.168.148.80,6:30:14,2022-05-11\n",
      "cgriffin,192.168.4.157,23:04:05,2022-05-09\n",
      "alevitsk,192.168.210.228,8:10:43,2022-05-08\n",
      "eraab,192.168.24.12,11:29:27,2022-05-11\n",
      "jsoto,192.168.25.60,5:09:21,2022-05-09\n",
      "jrafael,192.168.243.140,4:56:27,2022-05-09jrafael,192.168.243.140,4:56:27,2022-05-09jrafael,192.168.243.140,4:56:27,2022-05-09jrafael,192.168.243.140,4:56:27,2022-05-09\n"
     ]
    }
   ],
   "source": [
    "# Assign `import_file` to the name of the text file that contains the security log file\n",
    "\n",
    "import_file = \"data/login.txt\"\n",
    "\n",
    "# The`with` statement\n",
    "# Use `open()` to import security log file and store it as a string\n",
    "\n",
    "with open(import_file, \"r\") as file:\n",
    "\n",
    "  # Use `.read()` to read the imported file and store the result in a variable named `text`\n",
    "\n",
    "  text = file.read()\n",
    "\n",
    "# Display the contents of `text`\n",
    "\n",
    "print(text)"
   ]
  },
  {
   "cell_type": "code",
   "execution_count": 3,
   "metadata": {
    "id": "VOt5uxQ9Ql81"
   },
   "outputs": [
    {
     "name": "stdout",
     "output_type": "stream",
     "text": [
      "['username,ip_address,time,date', 'tshah,192.168.92.147,15:26:08,2022-05-10', 'dtanaka,192.168.98.221,9:45:18,2022-05-09', 'tmitchel,192.168.110.131,14:13:41,2022-05-11', 'daquino,192.168.168.144,7:02:35,2022-05-08', 'eraab,192.168.170.243,1:45:14,2022-05-11', 'jlansky,192.168.238.42,1:07:11,2022-05-11', 'acook,192.168.52.90,9:56:48,2022-05-10', 'asundara,192.168.58.217,23:17:52,2022-05-12', 'jclark,192.168.214.49,20:49:00,2022-05-10', 'cjackson,192.168.247.153,19:36:42,2022-05-12', 'jclark,192.168.197.247,14:11:04,2022-05-12', 'apatel,192.168.46.207,17:39:42,2022-05-10', 'mabadi,192.168.96.244,10:24:43,2022-05-12', 'iuduike,192.168.131.147,17:50:00,2022-05-11', 'abellmas,192.168.60.111,13:37:05,2022-05-10', 'gesparza,192.168.148.80,6:30:14,2022-05-11', 'cgriffin,192.168.4.157,23:04:05,2022-05-09', 'alevitsk,192.168.210.228,8:10:43,2022-05-08', 'eraab,192.168.24.12,11:29:27,2022-05-11', 'jsoto,192.168.25.60,5:09:21,2022-05-09', 'jrafael,192.168.243.140,4:56:27,2022-05-09jrafael,192.168.243.140,4:56:27,2022-05-09jrafael,192.168.243.140,4:56:27,2022-05-09jrafael,192.168.243.140,4:56:27,2022-05-09']\n"
     ]
    }
   ],
   "source": [
    "# Assign `import_file` to the name of the text file that contains the security log file\n",
    "\n",
    "import_file = \"data/login.txt\"\n",
    "\n",
    "# The`with` statement\n",
    "# Use `open()` to import security log file and store it as a string\n",
    "\n",
    "with open(import_file, \"r\") as file:\n",
    "\n",
    "  # Use `.read()` to read the imported file and store the result in a variable named `text`\n",
    "\n",
    "  text = file.read()\n",
    "\n",
    "# Display the contents of `text` split into separate lines \n",
    "\n",
    "print(text.split())"
   ]
  },
  {
   "cell_type": "code",
   "execution_count": 4,
   "metadata": {
    "id": "IqCsbimLIb09"
   },
   "outputs": [],
   "source": [
    "# Assign `import_file` to the name of the text file that contains the security log file\n",
    "\n",
    "import_file = \"data/login.txt\"\n",
    "\n",
    "# Assign `missing entry` to a log that was not recorded in the log file\n",
    "\n",
    "missing_entry = \"jrafael,192.168.243.140,4:56:27,2022-05-09\"\n",
    "\n",
    "# Use `open()` to import security log file and store it as a string\n",
    "# Pass in \"a\" as the second parameter to indicate that the file is being opened for appending purposes\n",
    "\n",
    "with open(import_file, \"a\") as file:\n",
    "\n",
    "    # Use `.write()` to append `missing_entry` to the log file\n",
    "\n",
    "    file.write(missing_entry)"
   ]
  },
  {
   "cell_type": "code",
   "execution_count": 5,
   "metadata": {
    "id": "3-Iz-wcgY90_"
   },
   "outputs": [
    {
     "name": "stdout",
     "output_type": "stream",
     "text": [
      "username,ip_address,time,date\n",
      "tshah,192.168.92.147,15:26:08,2022-05-10\n",
      "dtanaka,192.168.98.221,9:45:18,2022-05-09\n",
      "tmitchel,192.168.110.131,14:13:41,2022-05-11\n",
      "daquino,192.168.168.144,7:02:35,2022-05-08\n",
      "eraab,192.168.170.243,1:45:14,2022-05-11\n",
      "jlansky,192.168.238.42,1:07:11,2022-05-11\n",
      "acook,192.168.52.90,9:56:48,2022-05-10\n",
      "asundara,192.168.58.217,23:17:52,2022-05-12\n",
      "jclark,192.168.214.49,20:49:00,2022-05-10\n",
      "cjackson,192.168.247.153,19:36:42,2022-05-12\n",
      "jclark,192.168.197.247,14:11:04,2022-05-12\n",
      "apatel,192.168.46.207,17:39:42,2022-05-10\n",
      "mabadi,192.168.96.244,10:24:43,2022-05-12\n",
      "iuduike,192.168.131.147,17:50:00,2022-05-11\n",
      "abellmas,192.168.60.111,13:37:05,2022-05-10\n",
      "gesparza,192.168.148.80,6:30:14,2022-05-11\n",
      "cgriffin,192.168.4.157,23:04:05,2022-05-09\n",
      "alevitsk,192.168.210.228,8:10:43,2022-05-08\n",
      "eraab,192.168.24.12,11:29:27,2022-05-11\n",
      "jsoto,192.168.25.60,5:09:21,2022-05-09\n",
      "jrafael,192.168.243.140,4:56:27,2022-05-09jrafael,192.168.243.140,4:56:27,2022-05-09jrafael,192.168.243.140,4:56:27,2022-05-09jrafael,192.168.243.140,4:56:27,2022-05-09jrafael,192.168.243.140,4:56:27,2022-05-09jrafael,192.168.243.140,4:56:27,2022-05-09\n"
     ]
    }
   ],
   "source": [
    "# Assign `import_file` to the name of the text file that contains the security log file\n",
    "\n",
    "import_file = \"data/login.txt\"\n",
    "\n",
    "# Assign `missing entry` to a log that was not recorded in the log file\n",
    "\n",
    "missing_entry = \"jrafael,192.168.243.140,4:56:27,2022-05-09\"\n",
    "\n",
    "# Use `open()` to import security log file and store it as a string\n",
    "# Pass in \"a\" as the second parameter to indicate that the file is being opened for appending purposes\n",
    "\n",
    "with open(import_file, \"a\") as file:\n",
    "\n",
    "    # Use `.write()` to append `missing_entry` to the log file\n",
    "\n",
    "    file.write(missing_entry)\n",
    "\n",
    "# Use `open()` with the parameter \"r\" to open the security log file for reading purposes\n",
    "\n",
    "with open(import_file, \"r\") as file:\n",
    "\n",
    "    # Use `.read()` to read in the contents of the log file and store in a variable named `text`\n",
    "\n",
    "    text = file.read()\n",
    "\n",
    "# Display the contents of `text`\n",
    "\n",
    "print(text)    "
   ]
  },
  {
   "cell_type": "code",
   "execution_count": 6,
   "metadata": {
    "id": "qODRq_R3X1dO"
   },
   "outputs": [
    {
     "name": "stdout",
     "output_type": "stream",
     "text": [
      "data/allow_list.txt\n",
      "192.168.218.160 192.168.97.225 192.168.145.158 192.168.108.13 192.168.60.153 192.168.96.200 192.168.247.153 192.168.3.252 192.168.116.187 192.168.15.110 192.168.39.246\n"
     ]
    }
   ],
   "source": [
    "# Assign `import_file` to the name of the text file that you want to create\n",
    "\n",
    "import_file = \"data/allow_list.txt\"\n",
    "\n",
    "# Assign `ip_addresses` to a list of IP addresses that are allowed to access the restricted information\n",
    "\n",
    "ip_addresses = \"192.168.218.160 192.168.97.225 192.168.145.158 192.168.108.13 192.168.60.153 192.168.96.200 192.168.247.153 192.168.3.252 192.168.116.187 192.168.15.110 192.168.39.246\"\n",
    "\n",
    "# Display `import_file`\n",
    "\n",
    "print(import_file)\n",
    "\n",
    "# Display `ip_addresses`\n",
    "\n",
    "print(ip_addresses)"
   ]
  },
  {
   "cell_type": "code",
   "execution_count": 7,
   "metadata": {
    "id": "rtQg-LXjiHkN"
   },
   "outputs": [],
   "source": [
    "# Assign `import_file` to the name of the text file that you want to create\n",
    "\n",
    "import_file = \"data/allow_list.txt\"\n",
    "\n",
    "# Assign `ip_addresses` to a list of IP addresses that are allowed to access the restricted information\n",
    "\n",
    "ip_addresses = \"192.168.218.160 192.168.97.225 192.168.145.158 192.168.108.13 192.168.60.153 192.168.96.200 192.168.247.153 192.168.3.252 192.168.116.187 192.168.15.110 192.168.39.246\"\n",
    "\n",
    "# Create a `with` statement to write to the text file \n",
    "\n",
    "with open(import_file, \"w\") as file:\n",
    "\n",
    "  # Write `ip_addresses` to the text file\n",
    "\n",
    "  file.write(ip_addresses)"
   ]
  },
  {
   "cell_type": "code",
   "execution_count": 8,
   "metadata": {
    "id": "93NLqeWIiCH-",
    "scrolled": true
   },
   "outputs": [
    {
     "name": "stdout",
     "output_type": "stream",
     "text": [
      "192.168.218.160 192.168.97.225 192.168.145.158 192.168.108.13 192.168.60.153 192.168.96.200 192.168.247.153 192.168.3.252 192.168.116.187 192.168.15.110 192.168.39.246\n"
     ]
    }
   ],
   "source": [
    "# Assign `import_file` to the name of the text file that you want to create\n",
    "\n",
    "import_file = \"data/allow_list.txt\"\n",
    "\n",
    "# Assign `ip_addresses` to a list of IP addresses that are allowed to access the restricted information\n",
    "\n",
    "ip_addresses = \"192.168.218.160 192.168.97.225 192.168.145.158 192.168.108.13 192.168.60.153 192.168.96.200 192.168.247.153 192.168.3.252 192.168.116.187 192.168.15.110 192.168.39.246\"\n",
    "\n",
    "# Create a `with` statement to write to the text file \n",
    "\n",
    "with open(import_file, \"w\") as file:\n",
    "\n",
    "    # Write `ip_addresses` to the text file\n",
    "\n",
    "    file.write(ip_addresses)\n",
    "\n",
    "# Create a `with` statement to read in the text file \n",
    "\n",
    "with open(import_file, \"r\") as file:\n",
    "\n",
    "    # Read the file and store the result in a variable named `text`\n",
    "\n",
    "    text = file.read()\n",
    "\n",
    "# Display the contents of `text`\n",
    "\n",
    "print(text)"
   ]
  },
  {
   "cell_type": "markdown",
   "metadata": {
    "id": "DC2uOLAON0BW"
   },
   "source": [
    "#### **Question 1**\n",
    "**What do you notice about the output before and after using the `.split()` method?**"
   ]
  },
  {
   "cell_type": "markdown",
   "metadata": {
    "id": "kRTGjhkKPWzw"
   },
   "source": [
    "Before using the `.split()` method, the output is one long string containing all of the lines from the log file. After using the `.split()` method, the output is a list of strings; each string corresponds to a line from the log file."
   ]
  },
  {
   "cell_type": "markdown",
   "metadata": {
    "id": "jQfXi8r1pth1"
   },
   "source": [
    "#### **Question 2**\n",
    "**What do you notice about the position of the entry that was added to the log file?**"
   ]
  },
  {
   "cell_type": "markdown",
   "metadata": {
    "id": "BrQT7i7eqF32"
   },
   "source": [
    "The additional entry was added to the end of the log file, so it appears in the last line of the output."
   ]
  },
  {
   "cell_type": "markdown",
   "metadata": {
    "id": "ru2ytGBLCh4q"
   },
   "source": [
    "## Conclusion\n",
    "\n",
    "**What are your key lab takeaways?**"
   ]
  },
  {
   "cell_type": "markdown",
   "metadata": {
    "id": "hxh9FImwbcF9"
   },
   "source": [
    "- Python has functions and syntax that help you import and parse text files.\n",
    "  - The `with` statement allows you to efficiently handle files.\n",
    "  - The `open()` function allows you to import or open a file. It takes in the name of the file as the first parameter and a string that indicates the purpose of opening the file as the second parameter.\n",
    "    - Specify `\"r\"` as the second parameter if you're opening the file for reading purposes.\n",
    "    - Specify `\"a\"` as the second parameter if you're opening the file for appending purposes.\n",
    "    - Specify `\"w\"` as the second parameter if you're opening the file for writing purposes.\n",
    "  - The `.read()` method allows you to read in a file. \n",
    "  - The `.write()` method allows you to append or write to a file.\n",
    "- The `.split()` method in Python allows you to convert a string to a list."
   ]
  }
 ],
 "metadata": {
  "colab": {
   "provenance": [
    {
     "file_id": "1jGBN1kq1rqGDYChUPNfKX8Q3hpZhrDF6",
     "timestamp": 1667314242838
    }
   ],
   "toc_visible": true
  },
  "kernelspec": {
   "display_name": "Python 3",
   "language": "python",
   "name": "python3"
  },
  "language_info": {
   "codemirror_mode": {
    "name": "ipython",
    "version": 3
   },
   "file_extension": ".py",
   "mimetype": "text/x-python",
   "name": "python",
   "nbconvert_exporter": "python",
   "pygments_lexer": "ipython3",
   "version": "3.7.6"
  }
 },
 "nbformat": 4,
 "nbformat_minor": 1
}
